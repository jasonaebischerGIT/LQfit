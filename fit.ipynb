{
 "cells": [
  {
   "cell_type": "markdown",
   "metadata": {},
   "source": [
    "# LQ fit for $\\phi_1$ model"
   ]
  },
  {
   "cell_type": "code",
   "execution_count": 1,
   "metadata": {},
   "outputs": [],
   "source": [
    "import os"
   ]
  },
  {
   "cell_type": "code",
   "execution_count": 2,
   "metadata": {},
   "outputs": [
    {
     "data": {
      "text/plain": [
       "'/home/aebischer/Repositories/LQfit'"
      ]
     },
     "execution_count": 2,
     "metadata": {},
     "output_type": "execute_result"
    }
   ],
   "source": [
    "os.getcwd()"
   ]
  },
  {
   "cell_type": "code",
   "execution_count": 30,
   "metadata": {},
   "outputs": [],
   "source": [
    "import smelli\n",
    "from treemodels import ModelPoint\n",
    "import parameterscan\n",
    "import numpy as np\n",
    "import flavio\n",
    "from wilson import Wilson\n",
    "from scan.randompar import random_omega1\n",
    "from smelli import GlobalLikelihood\n",
    "import warnings"
   ]
  },
  {
   "cell_type": "code",
   "execution_count": 3,
   "metadata": {},
   "outputs": [],
   "source": [
    "# from parameterscan import ScanStoreSQL\n",
    "# store = ScanStoreSQL('my scan', datadir='.')"
   ]
  },
  {
   "cell_type": "markdown",
   "metadata": {},
   "source": [
    "Tree level matching for the $\\phi_1$ model"
   ]
  },
  {
   "cell_type": "code",
   "execution_count": 4,
   "metadata": {},
   "outputs": [],
   "source": [
    "def LQ_match_tree(yomega1ql, yomega1eu, Momega1):\n",
    "    #input is a numpy array for the couplings and a number for the masses\n",
    "    p_dict = {'yomega1ql': [yomega1ql.tolist()], 'yomega1eu': [yomega1eu.tolist()], \n",
    "              'Momega1': [Momega1,Momega1,Momega1]}\n",
    "    pt = ModelPoint(p_dict, Momega1)\n",
    "    wc_tree = pt.wc\n",
    "    return wc_tree.dict"
   ]
  },
  {
   "cell_type": "code",
   "execution_count": 7,
   "metadata": {},
   "outputs": [],
   "source": [
    "#test\n",
    "# yomega1ql = 50 * np.identity(3)\n",
    "# yomega1eu = 90 * np.identity(3)\n",
    "# Momega1 = 50\n",
    "# p_dict = {'yomega1ql': [yomega1ql.tolist()], 'yomega1eu': [yomega1eu.tolist()], \n",
    "#           'Momega1': [Momega1,Momega1,Momega1]}\n",
    "# pt = ModelPoint(p_dict, Momega1)\n",
    "# LQ_match_tree(yomega1ql, yomega1eu, Momega1)"
   ]
  },
  {
   "cell_type": "markdown",
   "metadata": {},
   "source": [
    "Setting up the scan"
   ]
  },
  {
   "cell_type": "code",
   "execution_count": null,
   "metadata": {},
   "outputs": [],
   "source": [
    "import numpy as np\n",
    "\n",
    "def random_LQ_couplings():\n",
    "    return {'yomega1ql': np.random.rand(3,3), 'yomega1eu': np.random.rand(3,3), \n",
    "              'Momega1': np.random.rand()}\n",
    "\n",
    "def LQ_obs(par):\n",
    "    w = Wilson(LQ_match_tree(par['yomega1ql'], par['yomega1eu'], par['Momega1']), 160, 'SMEFT', 'Warsaw')\n",
    "    obs_list = ['Rtaul(B->Dlnu)', 'BR(B+->pitaunu)', 'BR(B+->Knunu)', 'BR(B+->pinunu)', 'DeltaM_s', 'DeltaM_d', \n",
    "                'eps_K', 'x12_D', 'BR(K+->pinunu)', 'd_n', 'BR(tau->Knu)', 'BR(tau->pinu)']\n",
    "    res = {obs : flavio.np_prediction(obs, w) for obs in obs_list}\n",
    "    return res"
   ]
  },
  {
   "cell_type": "code",
   "execution_count": null,
   "metadata": {},
   "outputs": [],
   "source": [
    "from parameterscan import RandomScan\n",
    "scan = RandomScan(store,\n",
    "                  parfunc=random_omega1,\n",
    "                  funcdic={'observables': LQ_obs})\n",
    "scan.run(batchsize=1, batches=10)"
   ]
  },
  {
   "cell_type": "markdown",
   "metadata": {},
   "source": [
    "# $\\lambda^R_{23}$ - $\\lambda^L_{33}$ plot"
   ]
  },
  {
   "cell_type": "code",
   "execution_count": 16,
   "metadata": {},
   "outputs": [],
   "source": [
    "def wc_func(x,y):\n",
    "    yomega1ql = np.array([[0, 0, 0],\n",
    "           [0, 0, 0],\n",
    "           [0, 0, x]])\n",
    "    yomega1eu = np.array([[0, 0, 0],\n",
    "           [0, 0, y],\n",
    "           [0, 0, 0]])\n",
    "    Momega1 = 1000\n",
    "    return LQ_match_tree(yomega1ql, yomega1eu, Momega1)"
   ]
  },
  {
   "cell_type": "code",
   "execution_count": 17,
   "metadata": {},
   "outputs": [
    {
     "data": {
      "text/plain": [
       "{'eu_2233': 6e-06,\n",
       " 'lequ1_3233': 3e-06,\n",
       " 'lequ3_3233': -7.5e-07,\n",
       " 'lq1_3333': 7.5e-07,\n",
       " 'lq3_3333': -7.5e-07}"
      ]
     },
     "execution_count": 17,
     "metadata": {},
     "output_type": "execute_result"
    }
   ],
   "source": [
    "wc_func(1,2)"
   ]
  },
  {
   "cell_type": "code",
   "execution_count": 11,
   "metadata": {},
   "outputs": [],
   "source": [
    "def ll_func(x,y):\n",
    "    yomega1ql = np.array([[0, 0, 0],\n",
    "           [0, 0, 0],\n",
    "           [0, 0, x]])\n",
    "    yomega1eu = np.array([[0, 0, 0],\n",
    "           [0, 0, y],\n",
    "           [0, 0, 0]])\n",
    "    Momega1 = 1000\n",
    "    w = Wilson(LQ_match_tree(yomega1ql, yomega1eu, Momega1), 160, 'SMEFT', 'Warsaw')\n",
    "    gl = smelli.GlobalLikelihood(eft='SMEFT', basis='Warsaw')\n",
    "    glp = gl.parameter_point(w)\n",
    "    return glp.log_likelihood_dict()"
   ]
  },
  {
   "cell_type": "code",
   "execution_count": 12,
   "metadata": {
    "scrolled": true
   },
   "outputs": [
    {
     "data": {
      "text/plain": [
       "{'fast_likelihood_leptons.yaml': -36.86996783980792,\n",
       " 'fast_likelihood_quarks.yaml': -0.872676508619179,\n",
       " 'global': -inf,\n",
       " 'likelihood_bcpv.yaml': 0.0014275384191959617,\n",
       " 'likelihood_bqnunu.yaml': 0.04320029788437374,\n",
       " 'likelihood_ewpt.yaml': -21.450327551677532,\n",
       " 'likelihood_lept.yaml': 0.0013079768142074677,\n",
       " 'likelihood_lfu_fccc.yaml': -0.021172495508544387,\n",
       " 'likelihood_lfu_fcnc.yaml': 0.7070803921003215,\n",
       " 'likelihood_lfv.yaml': -inf,\n",
       " 'likelihood_rd_rds.yaml': 7.009586591037405,\n",
       " 'likelihood_zlfv.yaml': -0.006826762115522911}"
      ]
     },
     "execution_count": 12,
     "metadata": {},
     "output_type": "execute_result"
    }
   ],
   "source": [
    "wc_func(1,2)"
   ]
  },
  {
   "cell_type": "code",
   "execution_count": 33,
   "metadata": {},
   "outputs": [],
   "source": [
    "def run_plot(eft, scale, xmin, xmax, ymin, ymax,\n",
    "        basis=None, steps=20, threads=1,\n",
    "        setting='default', mpi=False,\n",
    "        **kwargs):\n",
    "    xmin = float(eval(str(xmin)))\n",
    "    xmax = float(eval(str(xmax)))\n",
    "    ymin = float(eval(str(ymin)))\n",
    "    ymax = float(eval(str(ymax)))\n",
    "    steps = int(steps)\n",
    "    _x = np.linspace(xmin, xmax, steps)\n",
    "    _y = np.linspace(ymin, ymax, steps)\n",
    "    x, y = np.meshgrid(_x, _y)\n",
    "    xy = np.array([x, y]).reshape(2, steps**2).T\n",
    "    xy_enumerated = list(enumerate(xy))\n",
    "#     from flavio_modifier import get_flavio\n",
    "#     flavio = get_flavio(setting)\n",
    "#     from smelli_modifier import get_global_likelihood\n",
    "#     GlobalLikelihood = get_global_likelihood(setting)\n",
    "#     if not 'exp_cov_folder' in kwargs:\n",
    "#         kwargs['exp_cov_folder'] = os.path.join('./exp_covariances',setting)\n",
    "    gl = GlobalLikelihood(eft=eft, basis=basis, **kwargs)\n",
    "    with warnings.catch_warnings():\n",
    "        warnings.simplefilter(\"ignore\")\n",
    "        keys_llh =  ['global'] + list(gl.log_likelihood_sm.keys())\n",
    "        keys_obstable = list(gl.obstable_sm.keys())\n",
    "    keys = keys_llh + keys_obstable\n",
    "#     ###########################\n",
    "#     #  compute chi2 on grid   #\n",
    "#     ###########################\n",
    "#     log_likelihood = partial(get_log_likelihood, gl=gl)\n",
    "#     if mpi:\n",
    "#         pool = MPIPool()\n",
    "#         if not pool.is_master():\n",
    "#             pool.wait()\n",
    "#             sys.exit(0)\n",
    "#     else:\n",
    "#         pool = MultiPool(threads)\n",
    "#     try:\n",
    "#         ll_dict_list_enumerated = pool.map(log_likelihood, xy_enumerated)\n",
    "#     except:\n",
    "#         pool.close()\n",
    "#         raise\n",
    "#     pool.close()\n",
    "#     if not mpi:\n",
    "#         pool.join()\n",
    "    ll_dict_list_enumerated = get_log_likelihood(xy_enumerated, gl=gl)\n",
    "    ll_enumerated_dict = dict(list(ll_dict_list_enumerated))\n",
    "    order_keys = sorted(ll_enumerated_dict.keys())\n",
    "    ll_dict_list = [ll_enumerated_dict[k] for k in order_keys]\n",
    "    plotdata = {}\n",
    "    for k in keys:\n",
    "        z = -2*np.array([ll_dict[k] for ll_dict in ll_dict_list]).reshape((steps, steps))\n",
    "        plotdata[k] = {'x': x, 'y': y, 'z': z}\n",
    "    ###########################\n",
    "    return plotdata"
   ]
  },
  {
   "cell_type": "code",
   "execution_count": null,
   "metadata": {},
   "outputs": [],
   "source": []
  },
  {
   "cell_type": "code",
   "execution_count": 34,
   "metadata": {},
   "outputs": [],
   "source": [
    "def get_log_likelihood(xy_enumerated, gl):\n",
    "    number, xy = xy_enumerated\n",
    "    x, y = xy\n",
    "    with warnings.catch_warnings():\n",
    "        warnings.simplefilter(\"ignore\")\n",
    "        gp = gl.parameter_point(wc_func(x,y), _scale_func(x, y))\n",
    "        ll_dict = gp.log_likelihood_dict()\n",
    "    ll_dict.update({k: -copysign(v['pull SM']**2/2, v['pull SM'])\n",
    "                    for k,v in gp._obstable_tree.items()})\n",
    "    return (number,ll_dict)\n",
    "\n",
    "def set_scale_function(scale):\n",
    "    s = r\"\"\"\n",
    "import numpy as np\n",
    "def _scale_func(x, y):\n",
    "    return np.float({})\n",
    "\"\"\".format(scale)\n",
    "    namespace = OrderedDict()\n",
    "    exec(s, namespace)\n",
    "    f = namespace.popitem()[1]\n",
    "    global _scale_func\n",
    "    _scale_func = f"
   ]
  },
  {
   "cell_type": "code",
   "execution_count": 35,
   "metadata": {},
   "outputs": [
    {
     "ename": "ValueError",
     "evalue": "too many values to unpack (expected 2)",
     "output_type": "error",
     "traceback": [
      "\u001b[0;31m---------------------------------------------------------------------------\u001b[0m",
      "\u001b[0;31mValueError\u001b[0m                                Traceback (most recent call last)",
      "\u001b[0;32m<ipython-input-35-ebce0deb3cb7>\u001b[0m in \u001b[0;36m<module>\u001b[0;34m()\u001b[0m\n\u001b[0;32m----> 1\u001b[0;31m \u001b[0mrun_plot\u001b[0m\u001b[0;34m(\u001b[0m\u001b[0;34m'SMEFT'\u001b[0m\u001b[0;34m,\u001b[0m \u001b[0;34m'Warsaw'\u001b[0m\u001b[0;34m,\u001b[0m \u001b[0;36m0\u001b[0m\u001b[0;34m,\u001b[0m \u001b[0;36m1\u001b[0m\u001b[0;34m,\u001b[0m \u001b[0;36m0\u001b[0m\u001b[0;34m,\u001b[0m \u001b[0;36m1\u001b[0m\u001b[0;34m,\u001b[0m \u001b[0mbasis\u001b[0m\u001b[0;34m=\u001b[0m\u001b[0;32mNone\u001b[0m\u001b[0;34m,\u001b[0m \u001b[0msteps\u001b[0m\u001b[0;34m=\u001b[0m\u001b[0;36m5\u001b[0m\u001b[0;34m,\u001b[0m \u001b[0mthreads\u001b[0m\u001b[0;34m=\u001b[0m\u001b[0;36m1\u001b[0m\u001b[0;34m,\u001b[0m\u001b[0msetting\u001b[0m\u001b[0;34m=\u001b[0m\u001b[0;34m'default'\u001b[0m\u001b[0;34m,\u001b[0m \u001b[0mmpi\u001b[0m\u001b[0;34m=\u001b[0m\u001b[0;32mFalse\u001b[0m\u001b[0;34m)\u001b[0m\u001b[0;34m\u001b[0m\u001b[0;34m\u001b[0m\u001b[0m\n\u001b[0m",
      "\u001b[0;32m<ipython-input-33-1c1a873635d3>\u001b[0m in \u001b[0;36mrun_plot\u001b[0;34m(eft, scale, xmin, xmax, ymin, ymax, basis, steps, threads, setting, mpi, **kwargs)\u001b[0m\n\u001b[1;32m     44\u001b[0m \u001b[0;31m#     if not mpi:\u001b[0m\u001b[0;34m\u001b[0m\u001b[0;34m\u001b[0m\u001b[0;34m\u001b[0m\u001b[0m\n\u001b[1;32m     45\u001b[0m \u001b[0;31m#         pool.join()\u001b[0m\u001b[0;34m\u001b[0m\u001b[0;34m\u001b[0m\u001b[0;34m\u001b[0m\u001b[0m\n\u001b[0;32m---> 46\u001b[0;31m     \u001b[0mll_dict_list_enumerated\u001b[0m \u001b[0;34m=\u001b[0m \u001b[0mget_log_likelihood\u001b[0m\u001b[0;34m(\u001b[0m\u001b[0mxy_enumerated\u001b[0m\u001b[0;34m,\u001b[0m \u001b[0mgl\u001b[0m\u001b[0;34m=\u001b[0m\u001b[0mgl\u001b[0m\u001b[0;34m)\u001b[0m\u001b[0;34m\u001b[0m\u001b[0;34m\u001b[0m\u001b[0m\n\u001b[0m\u001b[1;32m     47\u001b[0m     \u001b[0mll_enumerated_dict\u001b[0m \u001b[0;34m=\u001b[0m \u001b[0mdict\u001b[0m\u001b[0;34m(\u001b[0m\u001b[0mlist\u001b[0m\u001b[0;34m(\u001b[0m\u001b[0mll_dict_list_enumerated\u001b[0m\u001b[0;34m)\u001b[0m\u001b[0;34m)\u001b[0m\u001b[0;34m\u001b[0m\u001b[0;34m\u001b[0m\u001b[0m\n\u001b[1;32m     48\u001b[0m     \u001b[0morder_keys\u001b[0m \u001b[0;34m=\u001b[0m \u001b[0msorted\u001b[0m\u001b[0;34m(\u001b[0m\u001b[0mll_enumerated_dict\u001b[0m\u001b[0;34m.\u001b[0m\u001b[0mkeys\u001b[0m\u001b[0;34m(\u001b[0m\u001b[0;34m)\u001b[0m\u001b[0;34m)\u001b[0m\u001b[0;34m\u001b[0m\u001b[0;34m\u001b[0m\u001b[0m\n",
      "\u001b[0;32m<ipython-input-34-afb5c95b5a34>\u001b[0m in \u001b[0;36mget_log_likelihood\u001b[0;34m(xy_enumerated, gl)\u001b[0m\n\u001b[1;32m      1\u001b[0m \u001b[0;32mdef\u001b[0m \u001b[0mget_log_likelihood\u001b[0m\u001b[0;34m(\u001b[0m\u001b[0mxy_enumerated\u001b[0m\u001b[0;34m,\u001b[0m \u001b[0mgl\u001b[0m\u001b[0;34m)\u001b[0m\u001b[0;34m:\u001b[0m\u001b[0;34m\u001b[0m\u001b[0;34m\u001b[0m\u001b[0m\n\u001b[0;32m----> 2\u001b[0;31m     \u001b[0mnumber\u001b[0m\u001b[0;34m,\u001b[0m \u001b[0mxy\u001b[0m \u001b[0;34m=\u001b[0m \u001b[0mxy_enumerated\u001b[0m\u001b[0;34m\u001b[0m\u001b[0;34m\u001b[0m\u001b[0m\n\u001b[0m\u001b[1;32m      3\u001b[0m     \u001b[0mx\u001b[0m\u001b[0;34m,\u001b[0m \u001b[0my\u001b[0m \u001b[0;34m=\u001b[0m \u001b[0mxy\u001b[0m\u001b[0;34m\u001b[0m\u001b[0;34m\u001b[0m\u001b[0m\n\u001b[1;32m      4\u001b[0m     \u001b[0;32mwith\u001b[0m \u001b[0mwarnings\u001b[0m\u001b[0;34m.\u001b[0m\u001b[0mcatch_warnings\u001b[0m\u001b[0;34m(\u001b[0m\u001b[0;34m)\u001b[0m\u001b[0;34m:\u001b[0m\u001b[0;34m\u001b[0m\u001b[0;34m\u001b[0m\u001b[0m\n\u001b[1;32m      5\u001b[0m         \u001b[0mwarnings\u001b[0m\u001b[0;34m.\u001b[0m\u001b[0msimplefilter\u001b[0m\u001b[0;34m(\u001b[0m\u001b[0;34m\"ignore\"\u001b[0m\u001b[0;34m)\u001b[0m\u001b[0;34m\u001b[0m\u001b[0;34m\u001b[0m\u001b[0m\n",
      "\u001b[0;31mValueError\u001b[0m: too many values to unpack (expected 2)"
     ]
    }
   ],
   "source": [
    "run_plot('SMEFT', 'Warsaw', 0, 1, 0, 1, basis=None, steps=5, threads=1,setting='default', mpi=False)"
   ]
  },
  {
   "cell_type": "code",
   "execution_count": null,
   "metadata": {},
   "outputs": [],
   "source": []
  }
 ],
 "metadata": {
  "kernelspec": {
   "display_name": "Python 3",
   "language": "python",
   "name": "python3"
  },
  "language_info": {
   "codemirror_mode": {
    "name": "ipython",
    "version": 3
   },
   "file_extension": ".py",
   "mimetype": "text/x-python",
   "name": "python",
   "nbconvert_exporter": "python",
   "pygments_lexer": "ipython3",
   "version": "3.6.7"
  }
 },
 "nbformat": 4,
 "nbformat_minor": 2
}
