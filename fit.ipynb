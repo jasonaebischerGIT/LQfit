{
 "cells": [
  {
   "cell_type": "markdown",
   "metadata": {},
   "source": [
    "# LQ fit for $\\phi_1$ model"
   ]
  },
  {
   "cell_type": "code",
   "execution_count": null,
   "metadata": {},
   "outputs": [],
   "source": [
    "import smelli\n",
    "from treemodels import ModelPoint\n",
    "import parameterscan\n",
    "import numpy as np\n",
    "import flavio\n",
    "from wilson import Wilson"
   ]
  },
  {
   "cell_type": "code",
   "execution_count": null,
   "metadata": {},
   "outputs": [],
   "source": [
    "from parameterscan import ScanStoreSQL\n",
    "store = ScanStoreSQL('my scan', datadir='.')"
   ]
  },
  {
   "cell_type": "markdown",
   "metadata": {},
   "source": [
    "Tree level matching for the $\\phi_1$ model"
   ]
  },
  {
   "cell_type": "code",
   "execution_count": null,
   "metadata": {},
   "outputs": [],
   "source": [
    "def LQ_match_tree(yomega1ql, yomega1eu, Momega1):\n",
    "    #input is a numpy array for the couplings and a number for the masses\n",
    "    p_dict = {'yomega1ql': [yomega1ql.tolist()], 'yomega1eu': [yomega1eu.tolist()], \n",
    "              'Momega1': [Momega1,Momega1,Momega1]}\n",
    "    pt = ModelPoint(p_dict, Momega1)\n",
    "    wc_tree = pt.wc\n",
    "    return wc_tree.dict"
   ]
  },
  {
   "cell_type": "code",
   "execution_count": null,
   "metadata": {},
   "outputs": [],
   "source": [
    "#test\n",
    "# yomega1ql = 50 * np.identity(3)\n",
    "# yomega1eu = 90 * np.identity(3)\n",
    "# Momega1 = 50\n",
    "# LQ_match_tree(yomega1ql, yomega1eu, Momega1)"
   ]
  },
  {
   "cell_type": "markdown",
   "metadata": {},
   "source": [
    "Setting up the scan"
   ]
  },
  {
   "cell_type": "code",
   "execution_count": null,
   "metadata": {},
   "outputs": [],
   "source": [
    "import numpy as np\n",
    "\n",
    "def random_LQ_couplings():\n",
    "    return {'yomega1ql': np.random.rand(3,3), 'yomega1eu': np.random.rand(3,3), \n",
    "              'Momega1': np.random.rand()}\n",
    "\n",
    "def LQ_obs(par):\n",
    "    w = Wilson(LQ_match_tree(par['yomega1ql'], par['yomega1eu'], par['Momega1']), 160, 'SMEFT', 'Warsaw')\n",
    "    obs_list = ['Rtaul(B->Dlnu)', 'BR(B+->pitaunu)', 'BR(B+->Knunu)', 'BR(B+->pinunu)', 'DeltaM_s', 'DeltaM_d', \n",
    "                'eps_K', 'x12_D', 'BR(K+->pinunu)', 'd_n', 'BR(tau->Knu)', 'BR(tau->pinu)']\n",
    "    res = {obs : flavio.np_prediction(obs, w) for obs in obs_list}\n",
    "    return res"
   ]
  },
  {
   "cell_type": "code",
   "execution_count": null,
   "metadata": {},
   "outputs": [],
   "source": [
    "from parameterscan import RandomScan\n",
    "scan = RandomScan(store,\n",
    "                  parfunc=random_LQ_couplings,\n",
    "                  funcdic={'observables': LQ_obs})\n",
    "scan.run(batchsize=1, batches=10)"
   ]
  },
  {
   "cell_type": "code",
   "execution_count": null,
   "metadata": {},
   "outputs": [],
   "source": [
    "w = Wilson(LQ_match_tree(yomega1ql, yomega1eu, Momega1), 160, 'SMEFT', 'Warsaw')\n",
    "gl = smelli.GlobalLikelihood(eft='SMEFT', basis='Warsaw')\n",
    "glp = gl.parameter_point(w)\n",
    "glp.log_likelihood_dict()"
   ]
  },
  {
   "cell_type": "code",
   "execution_count": null,
   "metadata": {},
   "outputs": [],
   "source": []
  }
 ],
 "metadata": {
  "kernelspec": {
   "display_name": "Python 3",
   "language": "python",
   "name": "python3"
  },
  "language_info": {
   "codemirror_mode": {
    "name": "ipython",
    "version": 3
   },
   "file_extension": ".py",
   "mimetype": "text/x-python",
   "name": "python",
   "nbconvert_exporter": "python",
   "pygments_lexer": "ipython3",
   "version": "3.6.7"
  }
 },
 "nbformat": 4,
 "nbformat_minor": 2
}
